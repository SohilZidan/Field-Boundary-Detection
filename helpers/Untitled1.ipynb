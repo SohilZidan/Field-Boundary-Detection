{
 "cells": [
  {
   "cell_type": "code",
   "execution_count": 1,
   "metadata": {},
   "outputs": [],
   "source": [
    "%matplotlib inline"
   ]
  },
  {
   "cell_type": "markdown",
   "metadata": {},
   "source": [
    "### Canny Edge Detection"
   ]
  },
  {
   "cell_type": "code",
   "execution_count": null,
   "metadata": {},
   "outputs": [
    {
     "name": "stdout",
     "output_type": "stream",
     "text": [
      "<class 'numpy.ndarray'>\n"
     ]
    }
   ],
   "source": [
    "# import the necessary packages\n",
    "import numpy as np\n",
    "import argparse\n",
    "import glob\n",
    "import cv2\n",
    "\n",
    "def auto_canny(image, sigma=0.33):\n",
    "\t# compute the median of the single channel pixel intensities\n",
    "\tv = np.median(image)\n",
    "\n",
    "\t# apply automatic Canny edge detection using the computed median\n",
    "\tlower = int(max(0, (1.0 - sigma) * v))\n",
    "\tupper = int(min(255, (1.0 + sigma) * v))\n",
    "\tedged = cv2.Canny(image, lower, upper)\n",
    "\n",
    "\t# return the edged image\n",
    "\treturn edged\n",
    "\n",
    "\n",
    "\n",
    "# imagePath = r\"C:\\Users\\sohil\\Desktop\\c.png\"\n",
    "imagePath = r\"C:\\Users\\sohil\\AnacondaProjects\\JobTask\\example_output\\draw_boundary1.jpg\"\n",
    "# load the image, convert it to grayscale, and blur it slightly\n",
    "image = cv2.imread(imagePath)\n",
    "shifted = cv2.pyrMeanShiftFiltering(image, 21, 51)\n",
    "gray = cv2.cvtColor(shifted, cv2.COLOR_BGR2GRAY)\n",
    "blurred = cv2.GaussianBlur(gray, (5, 5), 0)\n",
    "\n",
    "# apply Canny edge detection using a wide threshold, tight\n",
    "# threshold, and automatically determined threshold\n",
    "wide = cv2.Canny(blurred, 20, 150, L2gradient = True)\n",
    "tight = cv2.Canny(blurred, 225, 250)\n",
    "auto = auto_canny(blurred)\n",
    "a = image - cv2.cvtColor(wide, cv2.COLOR_GRAY2BGR)\n",
    "print(type(a))\n",
    "a[a <= 0] = 0\n",
    "# image = a\n",
    "# show the images\n",
    "cv2.imshow(\"Original\",a )\n",
    "cv2.imshow(\"Edges\", np.hstack([wide ]))\n",
    "cv2.waitKey(0)"
   ]
  },
  {
   "cell_type": "markdown",
   "metadata": {},
   "source": [
    "### Segmentation"
   ]
  },
  {
   "cell_type": "code",
   "execution_count": null,
   "metadata": {},
   "outputs": [],
   "source": [
    "# import the necessary packages\n",
    "from skimage.feature import peak_local_max\n",
    "from skimage.morphology import watershed\n",
    "from scipy import ndimage\n",
    "import numpy as np\n",
    "import argparse\n",
    "import cv2\n",
    "\n",
    "# image = cv2.imread(imagePath)\n",
    "shifted = cv2.pyrMeanShiftFiltering(image, 21, 51) - cv2.cvtColor(wide, cv2.COLOR_GRAY2BGR)\n",
    "shifted[shifted <= 0 ] = 0\n",
    "# cv2.imshow(\"Input\", image)\n",
    "cv2.imshow(\"Shifted\", shifted)\n",
    "# convert the mean shift image to grayscale, then apply\n",
    "# Otsu's thresholding\n",
    "gray = cv2.cvtColor(shifted, cv2.COLOR_BGR2GRAY)\n",
    "thresh = cv2.threshold(gray, 0, 255,\n",
    "\tcv2.THRESH_BINARY | cv2.THRESH_OTSU)[1]\n",
    "cv2.imshow(\"Thresh\", thresh)\n",
    "\n",
    "# compute the exact Euclidean distance from every binary\n",
    "# pixel to the nearest zero pixel, then find peaks in this\n",
    "# distance map\n",
    "D = ndimage.distance_transform_edt(thresh)\n",
    "localMax = peak_local_max(D, indices=False, min_distance=20,\n",
    "\tlabels=thresh)\n",
    "\n",
    "# perform a connected component analysis on the local peaks,\n",
    "# using 8-connectivity, then appy the Watershed algorithm\n",
    "markers = ndimage.label(localMax, structure=np.ones((3, 3)))[0]\n",
    "labels = watershed(-D, markers, mask=thresh)\n",
    "print(\"[INFO] {} unique segments found\".format(len(np.unique(labels)) - 1))\n",
    "\n",
    "# loop over the unique labels returned by the Watershed\n",
    "# algorithm\n",
    "for label in np.unique(labels):\n",
    "\t# if the label is zero, we are examining the 'background'\n",
    "\t# so simply ignore it\n",
    "\tif label == 0:\n",
    "\t\tcontinue\n",
    "\n",
    "\t# otherwise, allocate memory for the label region and draw\n",
    "\t# it on the mask\n",
    "\tmask = np.zeros(gray.shape, dtype=\"uint8\")\n",
    "\tmask[labels == label] = 255\n",
    "\n",
    "\t# detect contours in the mask and grab the largest one\n",
    "\tcnts = cv2.findContours(mask.copy(), cv2.RETR_EXTERNAL,\n",
    "\t\tcv2.CHAIN_APPROX_SIMPLE)[-2]\n",
    "\tc = max(cnts, key=cv2.contourArea)\n",
    "\n",
    "\t# draw a circle enclosing the object\n",
    "\t((x, y), r) = cv2.minEnclosingCircle(c)\n",
    "\tcv2.circle(image, (int(x), int(y)), int(r), (0, 255, 0), 2)\n",
    "\tcv2.putText(image, \"#{}\".format(label), (int(x) - 10, int(y)),\n",
    "\t\tcv2.FONT_HERSHEY_SIMPLEX, 0.6, (0, 0, 255), 2)\n",
    "\n",
    "# show the output image\n",
    "cv2.imshow(\"Output\", image)\n",
    "cv2.waitKey(0)"
   ]
  },
  {
   "cell_type": "markdown",
   "metadata": {},
   "source": [
    "### Histogram"
   ]
  },
  {
   "cell_type": "code",
   "execution_count": 22,
   "metadata": {},
   "outputs": [],
   "source": [
    "img = cv2.imread(imagePath)\n",
    "hist = cv2.calcHist([img],[0],None,[256],[0,256])"
   ]
  },
  {
   "cell_type": "code",
   "execution_count": 42,
   "metadata": {},
   "outputs": [
    {
     "data": {
      "image/png": "[encoded data removed]",
      "text/plain": [
       "<Figure size 432x288 with 1 Axes>"
      ]
     },
     "metadata": {
      "needs_background": "light"
     },
     "output_type": "display_data"
    },
    {
     "data": {
      "text/plain": [
       "-1"
      ]
     },
     "execution_count": 42,
     "metadata": {},
     "output_type": "execute_result"
    }
   ],
   "source": [
    "import cv2\n",
    "import numpy as np\n",
    "from matplotlib import pyplot as plt\n",
    "imagePath = r\"C:\\Users\\sohil\\AnacondaProjects\\JobTask\\example_output\\extract_field748.jpg\"\n",
    "img = cv2.imread(imagePath)\n",
    "shifted = cv2.pyrMeanShiftFiltering(img, 21, 51)\n",
    "gray = cv2.cvtColor(shifted, cv2.COLOR_BGR2GRAY)\n",
    "\n",
    "# color = ('b','g','r')\n",
    "# for i,col in enumerate(color):\n",
    "#     histr = cv2.calcHist([img],[i],None,[256],[0,256])\n",
    "#     plt.plot(histr,color = col)\n",
    "#     plt.xlim([0,256])\n",
    "\n",
    "# filtered = gray[~is_outlier(gray)]\n",
    "# # Plot the results\n",
    "# fig, (ax1, ax2) = plt.subplots(nrows=2)\n",
    "\n",
    "# ax1.hist(gray .ravel(), bins=255, range= (0, 255))\n",
    "# ax1.set_title('Original')\n",
    "\n",
    "\n",
    "plt.hist(gray .ravel(), bins=255, range= (10, 255), density=True)\n",
    "plt.show()\n",
    "\n",
    "\n",
    "# density = gaussian_kde(gray)\n",
    "# xs = np.linspace(0,8,200)\n",
    "# density.covariance_factor = lambda : .25\n",
    "# density._compute_covariance()\n",
    "# plt.plot(xs,density(xs))\n",
    "# plt.show()\n",
    "\n",
    "\n",
    "# ax2.hist(filtered)\n",
    "# ax2.set_title('Without Outliers')\n",
    "\n",
    "cv2.imshow(\"Gray\", gray)\n",
    "cv2.waitKey(0)"
   ]
  },
  {
   "cell_type": "code",
   "execution_count": 36,
   "metadata": {},
   "outputs": [],
   "source": [
    "def is_outlier(points, thresh=3.5):\n",
    "    \"\"\"\n",
    "    Returns a boolean array with True if points are outliers and False \n",
    "    otherwise.\n",
    "\n",
    "    Parameters:\n",
    "    -----------\n",
    "        points : An numobservations by numdimensions array of observations\n",
    "        thresh : The modified z-score to use as a threshold. Observations with\n",
    "            a modified z-score (based on the median absolute deviation) greater\n",
    "            than this value will be classified as outliers.\n",
    "\n",
    "    Returns:\n",
    "    --------\n",
    "        mask : A numobservations-length boolean array.\n",
    "\n",
    "    References:\n",
    "    ----------\n",
    "        Boris Iglewicz and David Hoaglin (1993), \"Volume 16: How to Detect and\n",
    "        Handle Outliers\", The ASQC Basic References in Quality Control:\n",
    "        Statistical Techniques, Edward F. Mykytka, Ph.D., Editor. \n",
    "    \"\"\"\n",
    "    if len(points.shape) == 1:\n",
    "        points = points[:,None]\n",
    "    median = np.median(points, axis=0)\n",
    "    diff = np.sum((points - median)**2, axis=-1)\n",
    "    diff = np.sqrt(diff)\n",
    "    med_abs_deviation = np.median(diff)\n",
    "\n",
    "    modified_z_score = 0.6745 * diff / med_abs_deviation\n",
    "\n",
    "    return modified_z_score > thresh"
   ]
  },
  {
   "cell_type": "code",
   "execution_count": 43,
   "metadata": {},
   "outputs": [
    {
     "name": "stdout",
     "output_type": "stream",
     "text": [
      "Color: [129. 128. 102.]  >>  Objects: 34\n",
      "Color: [0. 0. 0.]  >>  Objects: 1\n",
      "Color: [113. 114.  92.]  >>  Objects: 34\n",
      "Color: [143. 143. 114.]  >>  Objects: 15\n",
      "Color: [62. 88. 64.]  >>  Objects: 5\n"
     ]
    }
   ],
   "source": [
    "import numpy as np\n",
    "from skimage import io, morphology, measure\n",
    "from sklearn.cluster import KMeans\n",
    "\n",
    "img = io.imread(imagePath)\n",
    "\n",
    "rows, cols, bands = img.shape\n",
    "X = img.reshape(rows*cols, bands)\n",
    "\n",
    "kmeans = KMeans(n_clusters=5, random_state=0).fit(X)\n",
    "labels = kmeans.labels_.reshape(rows, cols)\n",
    "\n",
    "for i in np.unique(labels):\n",
    "    blobs = np.int_(morphology.binary_opening(labels == i))\n",
    "    color = np.around(kmeans.cluster_centers_[i])\n",
    "    count = len(np.unique(measure.label(blobs))) - 1\n",
    "    print('Color: {}  >>  Objects: {}'.format(color, count))"
   ]
  },
  {
   "cell_type": "code",
   "execution_count": 54,
   "metadata": {},
   "outputs": [
    {
     "name": "stderr",
     "output_type": "stream",
     "text": [
      "C:\\Users\\sohil\\Anaconda3\\envs\\py36\\lib\\site-packages\\ipykernel_launcher.py:8: DeprecationWarning: `imread` is deprecated!\n",
      "`imread` is deprecated in SciPy 1.0.0, and will be removed in 1.2.0.\n",
      "Use ``imageio.imread`` instead.\n",
      "  \n"
     ]
    },
    {
     "name": "stdout",
     "output_type": "stream",
     "text": [
      "(640, 640)\n",
      "Number of objects is 6 \n"
     ]
    },
    {
     "data": {
      "image/png": "[encoded data removed]",
      "text/plain": [
       "<Figure size 432x288 with 1 Axes>"
      ]
     },
     "metadata": {
      "needs_background": "light"
     },
     "output_type": "display_data"
    }
   ],
   "source": [
    "import scipy\n",
    "\n",
    "fname='index.png'\n",
    "blur_radius = 1.0\n",
    "threshold = 50\n",
    "\n",
    "imagePath = r\"C:\\Users\\sohil\\AnacondaProjects\\JobTask\\example_output\\extract_field751.jpg\"\n",
    "img = scipy.misc.imread(imagePath) # gray-scale image\n",
    "shifted = cv2.pyrMeanShiftFiltering(image, 21, 51)\n",
    "gray = cv2.cvtColor(shifted, cv2.COLOR_BGR2GRAY)\n",
    "\n",
    "print(gray.shape)\n",
    "\n",
    "# smooth the image (to remove small objects)\n",
    "\n",
    "imgf = gray #ndimage.gaussian_filter(img, blur_radius)\n",
    "threshold = 20\n",
    "\n",
    "# find connected components\n",
    "labeled, nr_objects = ndimage.label(imgf > threshold) \n",
    "print(\"Number of objects is %d \" % nr_objects)\n",
    "\n",
    "# plt.imsave('/tmp/out.png', labeled)\n",
    "plt.imshow(labeled)\n",
    "\n",
    "plt.show()"
   ]
  },
  {
   "cell_type": "code",
   "execution_count": null,
   "metadata": {},
   "outputs": [],
   "source": []
  }
 ],
 "metadata": {
  "kernelspec": {
   "display_name": "Python 3",
   "language": "python",
   "name": "python3"
  },
  "language_info": {
   "codemirror_mode": {
    "name": "ipython",
    "version": 3
   },
   "file_extension": ".py",
   "mimetype": "text/x-python",
   "name": "python",
   "nbconvert_exporter": "python",
   "pygments_lexer": "ipython3",
   "version": "3.6.6"
  }
 },
 "nbformat": 4,
 "nbformat_minor": 2
}
