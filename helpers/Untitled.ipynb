{
 "cells": [
  {
   "cell_type": "code",
   "execution_count": 1,
   "metadata": {},
   "outputs": [],
   "source": [
    "%matplotlib inline\n",
    "import cv2\n",
    "import numpy as np\n",
    "# for i in range(1, 1965):\n",
    "#     example(i)"
   ]
  },
  {
   "cell_type": "code",
   "execution_count": 2,
   "metadata": {},
   "outputs": [],
   "source": [
    "\n",
    "# filename = 'C:\\\\Users\\\\sohil\\\\Desktop\\\\c.png'"
   ]
  },
  {
   "cell_type": "code",
   "execution_count": 3,
   "metadata": {},
   "outputs": [
    {
     "data": {
      "text/plain": [
       "<matplotlib.image.AxesImage at 0x447ef73a58>"
      ]
     },
     "execution_count": 3,
     "metadata": {},
     "output_type": "execute_result"
    },
    {
     "data": {
      "image/png": "[encoded data removed]",
      "text/plain": [
       "<Figure size 432x288 with 1 Axes>"
      ]
     },
     "metadata": {
      "needs_background": "light"
     },
     "output_type": "display_data"
    }
   ],
   "source": [
    "from matplotlib import pyplot as plt\n",
    "img = cv2.imread(filename)\n",
    "gray = cv2.cvtColor(img,cv2.COLOR_BGR2GRAY)\n",
    "ret, thresh = cv2.threshold(gray,0,255,cv2.THRESH_BINARY_INV+cv2.THRESH_OTSU)\n",
    "\n",
    "# noise removal\n",
    "kernel = np.ones((3,3),np.uint8)\n",
    "opening = cv2.morphologyEx(thresh,cv2.MORPH_OPEN,kernel, iterations = 2)\n",
    "# sure background area\n",
    "sure_bg = cv2.dilate(opening,kernel,iterations=3)\n",
    "# Finding sure foreground area\n",
    "dist_transform = cv2.distanceTransform(opening,cv2.DIST_L2,5)\n",
    "ret, sure_fg = cv2.threshold(dist_transform,0.7*dist_transform.max(),255,0)\n",
    "# Finding unknown region\n",
    "sure_fg = np.uint8(sure_fg)\n",
    "unknown = cv2.subtract(sure_bg,sure_fg)\n",
    "\n",
    "# Marker labelling\n",
    "ret, markers = cv2.connectedComponents(sure_fg)\n",
    "# Add one to all labels so that sure background is not 0, but 1\n",
    "markers = markers+1\n",
    "# Now, mark the region of unknown with zero\n",
    "markers[unknown==255] = 0\n",
    "\n",
    "markers = cv2.watershed(img,markers)\n",
    "img[markers == -1] = [255,0,0]\n",
    "\n",
    "plt.imshow(markers )\n",
    "\n"
   ]
  },
  {
   "cell_type": "code",
   "execution_count": 4,
   "metadata": {},
   "outputs": [
    {
     "data": {
      "text/plain": [
       "5"
      ]
     },
     "execution_count": 4,
     "metadata": {},
     "output_type": "execute_result"
    }
   ],
   "source": [
    "ret"
   ]
  },
  {
   "cell_type": "markdown",
   "metadata": {},
   "source": [
    "### gaussian blurring"
   ]
  },
  {
   "cell_type": "code",
   "execution_count": 5,
   "metadata": {},
   "outputs": [],
   "source": [
    "# img = cv2.imread(filename)\n",
    "# gausBlur = cv2.GaussianBlur(img, (11,11),9) \n",
    "\n",
    "# #imgray = cv2.cvtColor(im,cv2.COLOR_BGR2GRAY)\n",
    "# ret,thresh = cv2.threshold(gausBlur,100,200,0)\n",
    "# im2, contours, hierarchy = cv2.findContours(thresh,cv2.RETR_EXTERNAL,cv2.CV_8UC1)\n",
    "# cv2.drawContours(img, contours, -1, (0,255,0), 3)\n",
    "\n",
    "\n",
    "# plt.subplot(121),\n",
    "# cv2.imshow('label', gausBlur)\n",
    "# cv2.waitKey(0)\n",
    "# plt.imshow(img, cmap='gray')\n",
    "# plt.title('Original Image'), plt.xticks([]), plt.yticks([])\n",
    "# plt.subplot(122),plt.imshow(gausBlur)\n",
    "# plt.title('Blurred Image'), plt.xticks([]), plt.yticks([])"
   ]
  },
  {
   "cell_type": "code",
   "execution_count": 6,
   "metadata": {},
   "outputs": [],
   "source": [
    "# '''\n",
    "#  * Python program to use contours to count the objects in an image.\n",
    "#  *\n",
    "#  * usage: python Contours.py <filename> <threshold>\n",
    "# '''\n",
    "# import cv2\n",
    "# import sys\n",
    "\n",
    "# # read command-line arguments\n",
    "# filename='../example_output/extract_field1857.jpg'\n",
    "# t = 75\n",
    "# # read original image\n",
    "# img = cv2.imread(filename)\n",
    "\n",
    "# # create binary image\n",
    "# gray = cv2.cvtColor(img, cv2.COLOR_BGR2GRAY)\n",
    "# blur = cv2.GaussianBlur(gray, (9, 9), 7)\n",
    "# t, binary = cv2.threshold(blur, t, 255, cv2.THRESH_BINARY)\n",
    "\n",
    "# # find contours\n",
    "# (_, contours, _) = cv2.findContours(binary, cv2.RETR_LIST , \n",
    "#     cv2.CHAIN_APPROX_SIMPLE)\n",
    "\n",
    "# # print table of contours and sizes\n",
    "# print(\"Found %d objects.\" % len(contours))\n",
    "# for (i, c) in enumerate(contours):\n",
    "#     print(\"\\tSize of contour %d: %d\" % (i, len(c)))\n",
    "\n",
    "# # draw contours over original image\n",
    "# cv2.drawContours(img, contours, -1, (0, 0, 255), 5)\n",
    "\n",
    "# # display original image with contours\n",
    "# cv2.namedWindow(\"output\", cv2.WINDOW_NORMAL)\n",
    "# cv2.imshow(\"output\", img)\n",
    "# cv2.waitKey(0)"
   ]
  },
  {
   "cell_type": "markdown",
   "metadata": {},
   "source": [
    "### Hough"
   ]
  },
  {
   "cell_type": "code",
   "execution_count": 7,
   "metadata": {},
   "outputs": [],
   "source": [
    "# img = gausBlur#cv2.imread(filename)\n",
    "# gray = cv2.cvtColor(img,cv2.COLOR_BGR2GRAY)\n",
    "# edges = cv2.Canny(gray,50,150,apertureSize = 3)\n",
    "\n",
    "# minLineLength = 50\n",
    "# maxLineGap = 10\n",
    "# lines = cv2.HoughLinesP(edges,1,np.pi/180,100,minLineLength,maxLineGap)\n",
    "# for x1,y1,x2,y2 in lines[0]:\n",
    "#     cv2.line(img,(x1,y1),(x2,y2),(0,255,0),2)\n",
    "\n",
    "# # plt.imshow(img)\n",
    "# cv2.imshow('HoughLines', img)"
   ]
  },
  {
   "cell_type": "code",
   "execution_count": 40,
   "metadata": {},
   "outputs": [],
   "source": [
    "'''\n",
    "*  Widen the edges by making neighborhood of the white pixels white pixels also\n",
    "*  input: 2D numpy array (black and white values)\n",
    "*  output: 2D numpy array with thick edges\n",
    "'''\n",
    "def wideEges(edges, pixelsNum = 3):\n",
    "    i = 0\n",
    "    while i < edges.shape[0]:\n",
    "        j = 0\n",
    "        while j < edges.shape[1]:\n",
    "            if edges[i,j] > 0 and edges.shape[0] > i >=0  and edges.shape[1]-(pixelsNum + 1) > j >= pixelsNum:\n",
    "                edges[i, j-pixelsNum: j+pixelsNum] = 255\n",
    "                j += pixelsNum + 1\n",
    "            else:\n",
    "                j += 1\n",
    "        i+=1\n",
    "    return edges"
   ]
  },
  {
   "cell_type": "code",
   "execution_count": 41,
   "metadata": {},
   "outputs": [
    {
     "name": "stdout",
     "output_type": "stream",
     "text": [
      "Directory  NoisyData/  already exists\n",
      ">> Image 1 ...\n",
      "Found 1 objects.\n",
      ">> Image 2 ...\n",
      "Found 1 objects.\n",
      ">> Image 3 ...\n",
      "Found 1 objects.\n",
      ">> Image 4 ...\n",
      "Found 1 objects.\n"
     ]
    }
   ],
   "source": [
    "import cv2\n",
    "import numpy as np\n",
    "from matplotlib import pyplot as plt\n",
    "import matplotlib.image as mpimg\n",
    "import sys\n",
    "import os\n",
    "\n",
    "# define input and outputFolder\n",
    "inputFolder='../example_output'\n",
    "noisyFolder='NoisyData/'\n",
    "\n",
    "# Create directory\n",
    "try:\n",
    "    # Create target Directory\n",
    "    os.mkdir(noisyFolder)\n",
    "    print(\"Directory \" , noisyFolder ,  \" Created \") \n",
    "except FileExistsError:\n",
    "    print(\"Directory \" , noisyFolder ,  \" already exists\")\n",
    "\n",
    "imgsCount = 5\n",
    "for i in range(1, imgsCount):\n",
    "    print(\">> Image %d ...\" % i)\n",
    "    filename = inputFolder + '/extract_field%d.jpg' % i\n",
    "    \n",
    "    # Edge Detection on Filtered Image\n",
    "    orgImg = cv2.imread(filename)\n",
    "    img = cv2.pyrMeanShiftFiltering(orgImg, 30, 51)\n",
    "    gray = cv2.cvtColor(img,cv2.COLOR_BGR2GRAY)\n",
    "    edges = cv2.Canny(gray,50,150, apertureSize = 3, L2gradient = True)\n",
    "    \n",
    "    # widen the edges\n",
    "    edges = wideEges(edges, 5)\n",
    "    \n",
    "    \n",
    "    # Threshold for contours\n",
    "    t = 25\n",
    "\n",
    "    # convert edges to black\n",
    "    img[edges > 0] = 0 \n",
    "\n",
    "    # create binary image\n",
    "    gray = cv2.cvtColor(img, cv2.COLOR_BGR2GRAY)\n",
    "    blur = cv2.GaussianBlur(gray, (9, 9), 7)\n",
    "    t, binary = cv2.threshold(blur, t, 255, cv2.THRESH_BINARY)\n",
    "\n",
    "    # find contours\n",
    "    (_, contours, _) = cv2.findContours(binary, cv2.RETR_LIST , \n",
    "        cv2.CHAIN_APPROX_SIMPLE)\n",
    "\n",
    "    # print table of contours and sizes\n",
    "    print(\"Found %d objects.\" % len(contours))\n",
    "    #for (i, c) in enumerate(contours):\n",
    "    #    print(\"\\tSize of contour %d: %d\" % (i, len(c)))\n",
    "\n",
    "    # draw contours over original image\n",
    "    contouredImg = np.copy(img)\n",
    "    cv2.drawContours(contouredImg, contours, -1, (0, 0, 255), 5)\n",
    "\n",
    "    # concatinate orginal image with the contoured one\n",
    "    finalImg = np.concatenate((orgImg, \n",
    "                              np.full((img.shape[0], 1, img.shape[2]), 255),\n",
    "                              contouredImg), \n",
    "                             axis = 1)\n",
    "\n",
    "    if len(contours) > 1:\n",
    "        # save to noisy folder\n",
    "        cv2.imwrite(noisyFolder + \"%d.jpg\" % i, finalImg)\n",
    "\n",
    "\n",
    "    \n",
    "            \n",
    "# cv2.imshow('sad', edges)\n",
    "# cv2.waitKey(0)\n"
   ]
  },
  {
   "cell_type": "code",
   "execution_count": 32,
   "metadata": {},
   "outputs": [
    {
     "name": "stdout",
     "output_type": "stream",
     "text": [
      "Found 2 objects.\n",
      "\tSize of contour 0: 334\n",
      "\tSize of contour 1: 146\n"
     ]
    },
    {
     "data": {
      "text/plain": [
       "True"
      ]
     },
     "execution_count": 32,
     "metadata": {},
     "output_type": "execute_result"
    }
   ],
   "source": [
    "'''\n",
    " * Python program to use contours to count the objects in an image.\n",
    "'''\n",
    "\n",
    "\n",
    "# filename='../example_output/extract_field1857.jpg'\n",
    "\n",
    "# display original image with contours\n",
    "# cv2.namedWindow(\"output\", cv2.WINDOW_NORMAL)\n",
    "# cv2.imshow(\"output\", img)\n",
    "# cv2.waitKey(0)"
   ]
  },
  {
   "cell_type": "code",
   "execution_count": 23,
   "metadata": {},
   "outputs": [
    {
     "data": {
      "text/plain": [
       "2"
      ]
     },
     "execution_count": 23,
     "metadata": {},
     "output_type": "execute_result"
    }
   ],
   "source": [
    "\n",
    "    "
   ]
  },
  {
   "cell_type": "code",
   "execution_count": null,
   "metadata": {},
   "outputs": [],
   "source": []
  }
 ],
 "metadata": {
  "kernelspec": {
   "display_name": "Python 3",
   "language": "python",
   "name": "python3"
  },
  "language_info": {
   "codemirror_mode": {
    "name": "ipython",
    "version": 3
   },
   "file_extension": ".py",
   "mimetype": "text/x-python",
   "name": "python",
   "nbconvert_exporter": "python",
   "pygments_lexer": "ipython3",
   "version": "3.6.6"
  }
 },
 "nbformat": 4,
 "nbformat_minor": 2
}
