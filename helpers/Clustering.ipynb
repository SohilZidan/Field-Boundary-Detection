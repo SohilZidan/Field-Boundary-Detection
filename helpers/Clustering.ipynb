{
 "cells": [
  {
   "cell_type": "markdown",
   "metadata": {},
   "source": [
    "### Gap statistics"
   ]
  },
  {
   "cell_type": "code",
   "execution_count": 1,
   "metadata": {},
   "outputs": [
    {
     "name": "stderr",
     "output_type": "stream",
     "text": [
      "C:\\Users\\sohil\\Anaconda3\\envs\\py36\\lib\\site-packages\\gap_statistic\\optimalK.py:15: UserWarning: joblib not installed, will be unavailable as a backend for parallel processing.\n",
      "  warnings.warn('joblib not installed, will be unavailable as a backend for parallel processing.')\n"
     ]
    }
   ],
   "source": [
    "%matplotlib inline\n",
    "import time\n",
    "import hashlib\n",
    "import scipy\n",
    "import matplotlib.pyplot as plt\n",
    "import pandas as pd\n",
    "import numpy as np\n",
    "from sklearn.cluster import KMeans\n",
    "from sklearn.datasets.samples_generator import make_blobs\n",
    "from gap_statistic import OptimalK\n",
    "\n",
    "plt.rcParams['figure.figsize'] = 10, 10"
   ]
  },
  {
   "cell_type": "markdown",
   "metadata": {},
   "source": [
    "## Read and Preprocess the image"
   ]
  },
  {
   "cell_type": "code",
   "execution_count": 2,
   "metadata": {},
   "outputs": [],
   "source": [
    "def readImg(imPath):\n",
    "    import matplotlib.image as mpimg\n",
    "    import cv2\n",
    "\n",
    "#     imPath = r\"C:\\Users\\sohil\\AnacondaProjects\\JobTask\\example_output\\extract_field%d.jpg\"\n",
    "    # img=mpimg.imread(imPath)\n",
    "    img = cv2.imread(imPath)\n",
    "    img = cv2.GaussianBlur(img,(11,11),7)\n",
    "    img = cv2.pyrMeanShiftFiltering(img, 30, 75)\n",
    "    img = cv2.cvtColor(img, cv2.COLOR_BGR2RGB)\n",
    "\n",
    "    ## to grayscale\n",
    "    # img = Image.open(imPath).convert('LA')\n",
    "    # img = color.rgb2gray(img)\n",
    "\n",
    "#     plt.imshow(img)\n",
    "\n",
    "    # cv2.imshow('Original', img)\n",
    "    # cv2.waitKey(0)\n",
    "    # cv2.destroyAllWindows()\n",
    "    return img\n"
   ]
  },
  {
   "cell_type": "markdown",
   "metadata": {},
   "source": [
    "### 3D plotting"
   ]
  },
  {
   "cell_type": "code",
   "execution_count": 3,
   "metadata": {},
   "outputs": [],
   "source": [
    "def filterImg(img):\n",
    "    # reshape the image\n",
    "    reshapedImg = np.reshape(img, (img.shape[0]*img.shape[1], 3))\n",
    "    # filtering: remove black colors\n",
    "    finalImg = reshapedImg[np.any(reshapedImg, axis=1)]\n",
    "    # flatten all pixels values under 25\n",
    "    thresh = 25\n",
    "    finalImg[(finalImg < thresh).all(axis=1)] = 0\n",
    "    \n",
    "    \n",
    "    removed = (reshapedImg.shape[0] - finalImg.shape[0]) * 100 / reshapedImg.shape[0]\n",
    "#     print('%d percent of the image removed'%removed)\n",
    "    return finalImg"
   ]
  },
  {
   "cell_type": "markdown",
   "metadata": {},
   "source": [
    "### Find outliers"
   ]
  },
  {
   "cell_type": "code",
   "execution_count": 4,
   "metadata": {},
   "outputs": [],
   "source": [
    "def zScore(finalImg):\n",
    "    \n",
    "    from scipy import stats\n",
    "    import numpy as np\n",
    "    z = np.abs(stats.zscore(finalImg))\n",
    "#     print(finalImg.shape)\n",
    "#     print(finalImg[3000])\n",
    "#     print(z.shape)\n",
    "#     print(z[3000])\n",
    "    return z"
   ]
  },
  {
   "cell_type": "markdown",
   "metadata": {},
   "source": [
    "### Removing Outliers"
   ]
  },
  {
   "cell_type": "code",
   "execution_count": 5,
   "metadata": {},
   "outputs": [],
   "source": [
    "def removeOutliers(finalImg, z, threshold):\n",
    "    threshold = 1.8\n",
    "#     print(np.where(z > threshold)[0].shape)\n",
    "#     print('%d, %d before removing'%finalImg.shape)\n",
    "    finalImg = finalImg[(z < threshold).all(axis=1)]\n",
    "#     print('%d, %d after removing'%finalImg.shape)\n",
    "    return finalImg"
   ]
  },
  {
   "cell_type": "markdown",
   "metadata": {},
   "source": [
    "### Plotting color space"
   ]
  },
  {
   "cell_type": "code",
   "execution_count": 6,
   "metadata": {},
   "outputs": [],
   "source": [
    "# from mpl_toolkits.mplot3d import Axes3D\n",
    "# fig = plt.figure()\n",
    "# ax = fig.add_subplot(111, projection='3d')\n",
    "\n",
    "# ax.scatter(finalImg[:,0], finalImg[:, 1], finalImg[:, 2])\n",
    "\n",
    "# ax.set_xlabel('Red')\n",
    "# ax.set_ylabel('Green')\n",
    "# ax.set_zlabel('Blue')\n",
    "\n",
    "# plt.show()"
   ]
  },
  {
   "cell_type": "markdown",
   "metadata": {},
   "source": [
    "### Find Optimal number of clusters"
   ]
  },
  {
   "cell_type": "code",
   "execution_count": 7,
   "metadata": {},
   "outputs": [],
   "source": [
    "def findOptimalK(finalImg):\n",
    "    optimalK = OptimalK(parallel_backend='rust')\n",
    "    \n",
    "    n_clusters = optimalK(finalImg, cluster_array=np.arange(1,4))\n",
    "    print('Optimal clusters: %d'% n_clusters)\n",
    "    return n_clusters\n",
    "#     optimalK"
   ]
  },
  {
   "cell_type": "code",
   "execution_count": 8,
   "metadata": {},
   "outputs": [],
   "source": [
    "# %%time\n",
    "# # X, y = make_blobs(n_samples=int(1e5), n_features=2, centers=3, random_state=25)\n",
    "# # print('Data shape: ', X.shape)\n",
    "\n",
    "# n_clusters = optimalK(finalImg, cluster_array=np.arange(1,4))\n",
    "# print('Optimal clusters: ', n_clusters)"
   ]
  },
  {
   "cell_type": "code",
   "execution_count": 9,
   "metadata": {},
   "outputs": [],
   "source": [
    "# optimalK.gap_df.head()"
   ]
  },
  {
   "cell_type": "code",
   "execution_count": 10,
   "metadata": {},
   "outputs": [],
   "source": [
    "# plt.plot(optimalK.gap_df.n_clusters, optimalK.gap_df.gap_value, linewidth=3)\n",
    "# plt.scatter(optimalK.gap_df[optimalK.gap_df.n_clusters == n_clusters].n_clusters,\n",
    "#             optimalK.gap_df[optimalK.gap_df.n_clusters == n_clusters].gap_value, s=250, c='r')\n",
    "# plt.grid(True)\n",
    "# plt.xlabel('Cluster Count')\n",
    "# plt.ylabel('Gap Value')\n",
    "# plt.title('Gap Values by Cluster Count')\n",
    "# plt.show()"
   ]
  },
  {
   "cell_type": "code",
   "execution_count": 11,
   "metadata": {},
   "outputs": [],
   "source": [
    "\n",
    "# Now that we have the optimal clusters, n, we build our own KMeans model...\n",
    "# km = KMeans(n_clusters)\n",
    "# km.fit(finalImg)\n",
    "\n",
    "# df = pd.DataFrame(finalImg, columns=['R','G', 'B'])\n",
    "# df['label'] = km.labels_\n",
    "\n",
    "# colors = plt.cm.Spectral(np.linspace(0, 1, len(df.label.unique())))\n",
    "\n",
    "# fig = plt.figure()\n",
    "# ax = fig.add_subplot(111, projection='3d')\n",
    "\n",
    "# for color, label in zip(colors, df.label.unique()):\n",
    "    \n",
    "#     tempdf = df[df.label == label]\n",
    "#     ax.scatter(tempdf.R, tempdf.G, tempdf.B, c = color)\n",
    "# #     plt.scatter(tempdf.x, tempdf.y, c=color)\n",
    "    \n",
    "# ax.scatter(km.cluster_centers_[:,0], km.cluster_centers_[:, 1],km.cluster_centers_[:,2], c='r', s=500, alpha=0.7, )\n",
    "# plt.grid(True)\n",
    "# ax.set_xlabel('Red')\n",
    "# ax.set_ylabel('Green')\n",
    "# ax.set_zlabel('Blue')\n",
    "# plt.show()"
   ]
  },
  {
   "cell_type": "markdown",
   "metadata": {},
   "source": [
    "# combined code"
   ]
  },
  {
   "cell_type": "code",
   "execution_count": null,
   "metadata": {},
   "outputs": [
    {
     "name": "stdout",
     "output_type": "stream",
     "text": [
      "Optimal clusters: 3\n"
     ]
    }
   ],
   "source": [
    "import os\n",
    "from shutil import copyfile\n",
    "\n",
    "folderPath = r\"C:\\Users\\sohil\\AnacondaProjects\\JobTask\\example_output\\\\\"\n",
    "threshold = 1.8\n",
    "\n",
    "# # Create directory\n",
    "# dirName = 'NoisyData'\n",
    "# try:\n",
    "#     # Create target Directory\n",
    "#     os.mkdir(dirName)\n",
    "#     print(\"Directory \" , dirName ,  \" Created \") \n",
    "# except FileExistsError:\n",
    "#     print(\"Directory \" , dirName ,  \" already exists\")\n",
    "    \n",
    "# for i in range(1,1965):\n",
    "i = 1\n",
    "imgPath = folderPath + \"extract_field%d.jpg\" % i\n",
    "img = readImg(imgPath)\n",
    "filtered = filterImg(img)\n",
    "zscore = zScore(filtered)\n",
    "filtered = removeOutliers(filtered, zscore, threshold)\n",
    "K = findOptimalK(filtered)\n",
    "\n",
    "i = 2\n",
    "imgPath = folderPath + \"extract_field%d.jpg\" % i\n",
    "img = readImg(imgPath)\n",
    "filtered = filterImg(img)\n",
    "zscore = zScore(filtered)\n",
    "filtered = removeOutliers(filtered, zscore, threshold)\n",
    "K = findOptimalK(filtered)\n",
    "\n",
    "#     if K > 2:\n",
    "#         print(\"Noisy Data\")\n",
    "#         src = imgPath\n",
    "#         dst = \"%i.png\"%i\n",
    "#         copyfile(src, dst)"
   ]
  },
  {
   "cell_type": "code",
   "execution_count": null,
   "metadata": {},
   "outputs": [],
   "source": []
  }
 ],
 "metadata": {
  "kernelspec": {
   "display_name": "Python 3",
   "language": "python",
   "name": "python3"
  },
  "language_info": {
   "codemirror_mode": {
    "name": "ipython",
    "version": 3
   },
   "file_extension": ".py",
   "mimetype": "text/x-python",
   "name": "python",
   "nbconvert_exporter": "python",
   "pygments_lexer": "ipython3",
   "version": "3.6.6"
  }
 },
 "nbformat": 4,
 "nbformat_minor": 2
}
